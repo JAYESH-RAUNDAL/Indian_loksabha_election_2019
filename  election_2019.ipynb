{
 "cells": [
  {
   "cell_type": "markdown",
   "metadata": {},
   "source": [
    "# Importing liraries"
   ]
  },
  {
   "cell_type": "code",
   "execution_count": 1,
   "metadata": {},
   "outputs": [],
   "source": [
    "import numpy as np \n",
    "import pandas as pd\n",
    "import matplotlib.pyplot as plt\n",
    "import seaborn as sns"
   ]
  },
  {
   "cell_type": "markdown",
   "metadata": {},
   "source": [
    "# Importing the dataset"
   ]
  },
  {
   "cell_type": "code",
   "execution_count": 2,
   "metadata": {},
   "outputs": [],
   "source": [
    "data=pd.read_csv('LS_2.0.csv')"
   ]
  },
  {
   "cell_type": "code",
   "execution_count": 3,
   "metadata": {},
   "outputs": [
    {
     "data": {
      "text/html": [
       "<div>\n",
       "<style scoped>\n",
       "    .dataframe tbody tr th:only-of-type {\n",
       "        vertical-align: middle;\n",
       "    }\n",
       "\n",
       "    .dataframe tbody tr th {\n",
       "        vertical-align: top;\n",
       "    }\n",
       "\n",
       "    .dataframe thead th {\n",
       "        text-align: right;\n",
       "    }\n",
       "</style>\n",
       "<table border=\"1\" class=\"dataframe\">\n",
       "  <thead>\n",
       "    <tr style=\"text-align: right;\">\n",
       "      <th></th>\n",
       "      <th>STATE</th>\n",
       "      <th>CONSTITUENCY</th>\n",
       "      <th>NAME</th>\n",
       "      <th>WINNER</th>\n",
       "      <th>PARTY</th>\n",
       "      <th>SYMBOL</th>\n",
       "      <th>GENDER</th>\n",
       "      <th>CRIMINAL\n",
       "CASES</th>\n",
       "      <th>AGE</th>\n",
       "      <th>CATEGORY</th>\n",
       "      <th>EDUCATION</th>\n",
       "      <th>ASSETS</th>\n",
       "      <th>LIABILITIES</th>\n",
       "      <th>GENERAL\n",
       "VOTES</th>\n",
       "      <th>POSTAL\n",
       "VOTES</th>\n",
       "      <th>TOTAL\n",
       "VOTES</th>\n",
       "      <th>OVER TOTAL ELECTORS \n",
       "IN CONSTITUENCY</th>\n",
       "      <th>OVER TOTAL VOTES POLLED \n",
       "IN CONSTITUENCY</th>\n",
       "      <th>TOTAL ELECTORS</th>\n",
       "    </tr>\n",
       "  </thead>\n",
       "  <tbody>\n",
       "    <tr>\n",
       "      <th>0</th>\n",
       "      <td>Telangana</td>\n",
       "      <td>ADILABAD</td>\n",
       "      <td>SOYAM BAPU RAO</td>\n",
       "      <td>1</td>\n",
       "      <td>BJP</td>\n",
       "      <td>Lotus</td>\n",
       "      <td>MALE</td>\n",
       "      <td>52</td>\n",
       "      <td>52.0</td>\n",
       "      <td>ST</td>\n",
       "      <td>12th Pass</td>\n",
       "      <td>Rs 30,99,414\\n ~ 30 Lacs+</td>\n",
       "      <td>Rs 2,31,450\\n ~ 2 Lacs+</td>\n",
       "      <td>376892</td>\n",
       "      <td>482</td>\n",
       "      <td>377374</td>\n",
       "      <td>25.330684</td>\n",
       "      <td>35.468248</td>\n",
       "      <td>1489790</td>\n",
       "    </tr>\n",
       "    <tr>\n",
       "      <th>1</th>\n",
       "      <td>Telangana</td>\n",
       "      <td>ADILABAD</td>\n",
       "      <td>Godam Nagesh</td>\n",
       "      <td>0</td>\n",
       "      <td>TRS</td>\n",
       "      <td>Car</td>\n",
       "      <td>MALE</td>\n",
       "      <td>0</td>\n",
       "      <td>54.0</td>\n",
       "      <td>ST</td>\n",
       "      <td>Post Graduate</td>\n",
       "      <td>Rs 1,84,77,888\\n ~ 1 Crore+</td>\n",
       "      <td>Rs 8,47,000\\n ~ 8 Lacs+</td>\n",
       "      <td>318665</td>\n",
       "      <td>149</td>\n",
       "      <td>318814</td>\n",
       "      <td>21.399929</td>\n",
       "      <td>29.964370</td>\n",
       "      <td>1489790</td>\n",
       "    </tr>\n",
       "    <tr>\n",
       "      <th>2</th>\n",
       "      <td>Telangana</td>\n",
       "      <td>ADILABAD</td>\n",
       "      <td>RATHOD RAMESH</td>\n",
       "      <td>0</td>\n",
       "      <td>INC</td>\n",
       "      <td>Hand</td>\n",
       "      <td>MALE</td>\n",
       "      <td>3</td>\n",
       "      <td>52.0</td>\n",
       "      <td>ST</td>\n",
       "      <td>12th Pass</td>\n",
       "      <td>Rs 3,64,91,000\\n ~ 3 Crore+</td>\n",
       "      <td>Rs 1,53,00,000\\n ~ 1 Crore+</td>\n",
       "      <td>314057</td>\n",
       "      <td>181</td>\n",
       "      <td>314238</td>\n",
       "      <td>21.092771</td>\n",
       "      <td>29.534285</td>\n",
       "      <td>1489790</td>\n",
       "    </tr>\n",
       "    <tr>\n",
       "      <th>3</th>\n",
       "      <td>Telangana</td>\n",
       "      <td>ADILABAD</td>\n",
       "      <td>NOTA</td>\n",
       "      <td>0</td>\n",
       "      <td>NOTA</td>\n",
       "      <td>NaN</td>\n",
       "      <td>NaN</td>\n",
       "      <td>NaN</td>\n",
       "      <td>NaN</td>\n",
       "      <td>NaN</td>\n",
       "      <td>NaN</td>\n",
       "      <td>NaN</td>\n",
       "      <td>NaN</td>\n",
       "      <td>13030</td>\n",
       "      <td>6</td>\n",
       "      <td>13036</td>\n",
       "      <td>0.875023</td>\n",
       "      <td>1.225214</td>\n",
       "      <td>1489790</td>\n",
       "    </tr>\n",
       "    <tr>\n",
       "      <th>4</th>\n",
       "      <td>Uttar Pradesh</td>\n",
       "      <td>AGRA</td>\n",
       "      <td>Satyapal Singh Baghel</td>\n",
       "      <td>1</td>\n",
       "      <td>BJP</td>\n",
       "      <td>Lotus</td>\n",
       "      <td>MALE</td>\n",
       "      <td>5</td>\n",
       "      <td>58.0</td>\n",
       "      <td>SC</td>\n",
       "      <td>Doctorate</td>\n",
       "      <td>Rs 7,42,74,036\\n ~ 7 Crore+</td>\n",
       "      <td>Rs 86,06,522\\n ~ 86 Lacs+</td>\n",
       "      <td>644459</td>\n",
       "      <td>2416</td>\n",
       "      <td>646875</td>\n",
       "      <td>33.383823</td>\n",
       "      <td>56.464615</td>\n",
       "      <td>1937690</td>\n",
       "    </tr>\n",
       "  </tbody>\n",
       "</table>\n",
       "</div>"
      ],
      "text/plain": [
       "           STATE CONSTITUENCY                   NAME  WINNER PARTY SYMBOL  \\\n",
       "0      Telangana     ADILABAD         SOYAM BAPU RAO       1   BJP  Lotus   \n",
       "1      Telangana     ADILABAD           Godam Nagesh       0   TRS    Car   \n",
       "2      Telangana     ADILABAD          RATHOD RAMESH       0   INC   Hand   \n",
       "3      Telangana     ADILABAD                   NOTA       0  NOTA    NaN   \n",
       "4  Uttar Pradesh         AGRA  Satyapal Singh Baghel       1   BJP  Lotus   \n",
       "\n",
       "  GENDER CRIMINAL\\nCASES   AGE CATEGORY      EDUCATION  \\\n",
       "0   MALE              52  52.0       ST      12th Pass   \n",
       "1   MALE               0  54.0       ST  Post Graduate   \n",
       "2   MALE               3  52.0       ST      12th Pass   \n",
       "3    NaN             NaN   NaN      NaN            NaN   \n",
       "4   MALE               5  58.0       SC      Doctorate   \n",
       "\n",
       "                        ASSETS                  LIABILITIES  GENERAL\\nVOTES  \\\n",
       "0    Rs 30,99,414\\n ~ 30 Lacs+      Rs 2,31,450\\n ~ 2 Lacs+          376892   \n",
       "1  Rs 1,84,77,888\\n ~ 1 Crore+      Rs 8,47,000\\n ~ 8 Lacs+          318665   \n",
       "2  Rs 3,64,91,000\\n ~ 3 Crore+  Rs 1,53,00,000\\n ~ 1 Crore+          314057   \n",
       "3                          NaN                          NaN           13030   \n",
       "4  Rs 7,42,74,036\\n ~ 7 Crore+    Rs 86,06,522\\n ~ 86 Lacs+          644459   \n",
       "\n",
       "   POSTAL\\nVOTES  TOTAL\\nVOTES  OVER TOTAL ELECTORS \\nIN CONSTITUENCY  \\\n",
       "0            482        377374                              25.330684   \n",
       "1            149        318814                              21.399929   \n",
       "2            181        314238                              21.092771   \n",
       "3              6         13036                               0.875023   \n",
       "4           2416        646875                              33.383823   \n",
       "\n",
       "   OVER TOTAL VOTES POLLED \\nIN CONSTITUENCY  TOTAL ELECTORS  \n",
       "0                                  35.468248         1489790  \n",
       "1                                  29.964370         1489790  \n",
       "2                                  29.534285         1489790  \n",
       "3                                   1.225214         1489790  \n",
       "4                                  56.464615         1937690  "
      ]
     },
     "execution_count": 3,
     "metadata": {},
     "output_type": "execute_result"
    }
   ],
   "source": [
    "data.head()"
   ]
  },
  {
   "cell_type": "code",
   "execution_count": 4,
   "metadata": {},
   "outputs": [
    {
     "name": "stdout",
     "output_type": "stream",
     "text": [
      "<class 'pandas.core.frame.DataFrame'>\n",
      "RangeIndex: 2263 entries, 0 to 2262\n",
      "Data columns (total 19 columns):\n",
      "STATE                                       2263 non-null object\n",
      "CONSTITUENCY                                2263 non-null object\n",
      "NAME                                        2263 non-null object\n",
      "WINNER                                      2263 non-null int64\n",
      "PARTY                                       2263 non-null object\n",
      "SYMBOL                                      2018 non-null object\n",
      "GENDER                                      2018 non-null object\n",
      "CRIMINAL\n",
      "CASES                              2018 non-null object\n",
      "AGE                                         2018 non-null float64\n",
      "CATEGORY                                    2018 non-null object\n",
      "EDUCATION                                   2018 non-null object\n",
      "ASSETS                                      2018 non-null object\n",
      "LIABILITIES                                 2018 non-null object\n",
      "GENERAL\n",
      "VOTES                               2263 non-null int64\n",
      "POSTAL\n",
      "VOTES                                2263 non-null int64\n",
      "TOTAL\n",
      "VOTES                                 2263 non-null int64\n",
      "OVER TOTAL ELECTORS \n",
      "IN CONSTITUENCY        2263 non-null float64\n",
      "OVER TOTAL VOTES POLLED \n",
      "IN CONSTITUENCY    2263 non-null float64\n",
      "TOTAL ELECTORS                              2263 non-null int64\n",
      "dtypes: float64(3), int64(5), object(11)\n",
      "memory usage: 336.0+ KB\n"
     ]
    }
   ],
   "source": [
    "data.info()"
   ]
  },
  {
   "cell_type": "code",
   "execution_count": 5,
   "metadata": {},
   "outputs": [
    {
     "data": {
      "text/html": [
       "<div>\n",
       "<style scoped>\n",
       "    .dataframe tbody tr th:only-of-type {\n",
       "        vertical-align: middle;\n",
       "    }\n",
       "\n",
       "    .dataframe tbody tr th {\n",
       "        vertical-align: top;\n",
       "    }\n",
       "\n",
       "    .dataframe thead th {\n",
       "        text-align: right;\n",
       "    }\n",
       "</style>\n",
       "<table border=\"1\" class=\"dataframe\">\n",
       "  <thead>\n",
       "    <tr style=\"text-align: right;\">\n",
       "      <th></th>\n",
       "      <th>WINNER</th>\n",
       "      <th>AGE</th>\n",
       "      <th>GENERAL\n",
       "VOTES</th>\n",
       "      <th>POSTAL\n",
       "VOTES</th>\n",
       "      <th>TOTAL\n",
       "VOTES</th>\n",
       "      <th>OVER TOTAL ELECTORS \n",
       "IN CONSTITUENCY</th>\n",
       "      <th>OVER TOTAL VOTES POLLED \n",
       "IN CONSTITUENCY</th>\n",
       "      <th>TOTAL ELECTORS</th>\n",
       "    </tr>\n",
       "  </thead>\n",
       "  <tbody>\n",
       "    <tr>\n",
       "      <th>count</th>\n",
       "      <td>2263.000000</td>\n",
       "      <td>2018.000000</td>\n",
       "      <td>2.263000e+03</td>\n",
       "      <td>2263.000000</td>\n",
       "      <td>2.263000e+03</td>\n",
       "      <td>2263.000000</td>\n",
       "      <td>2263.000000</td>\n",
       "      <td>2.263000e+03</td>\n",
       "    </tr>\n",
       "    <tr>\n",
       "      <th>mean</th>\n",
       "      <td>0.238179</td>\n",
       "      <td>52.273538</td>\n",
       "      <td>2.615991e+05</td>\n",
       "      <td>990.710561</td>\n",
       "      <td>2.625898e+05</td>\n",
       "      <td>15.811412</td>\n",
       "      <td>23.190525</td>\n",
       "      <td>1.658016e+06</td>\n",
       "    </tr>\n",
       "    <tr>\n",
       "      <th>std</th>\n",
       "      <td>0.426064</td>\n",
       "      <td>11.869373</td>\n",
       "      <td>2.549906e+05</td>\n",
       "      <td>1602.839174</td>\n",
       "      <td>2.559822e+05</td>\n",
       "      <td>14.962861</td>\n",
       "      <td>21.564758</td>\n",
       "      <td>3.145187e+05</td>\n",
       "    </tr>\n",
       "    <tr>\n",
       "      <th>min</th>\n",
       "      <td>0.000000</td>\n",
       "      <td>25.000000</td>\n",
       "      <td>1.339000e+03</td>\n",
       "      <td>0.000000</td>\n",
       "      <td>1.342000e+03</td>\n",
       "      <td>0.097941</td>\n",
       "      <td>1.000039</td>\n",
       "      <td>5.518900e+04</td>\n",
       "    </tr>\n",
       "    <tr>\n",
       "      <th>25%</th>\n",
       "      <td>0.000000</td>\n",
       "      <td>43.250000</td>\n",
       "      <td>2.103450e+04</td>\n",
       "      <td>57.000000</td>\n",
       "      <td>2.116250e+04</td>\n",
       "      <td>1.296518</td>\n",
       "      <td>1.899502</td>\n",
       "      <td>1.530014e+06</td>\n",
       "    </tr>\n",
       "    <tr>\n",
       "      <th>50%</th>\n",
       "      <td>0.000000</td>\n",
       "      <td>52.000000</td>\n",
       "      <td>1.539340e+05</td>\n",
       "      <td>316.000000</td>\n",
       "      <td>1.544890e+05</td>\n",
       "      <td>10.510553</td>\n",
       "      <td>16.221721</td>\n",
       "      <td>1.679030e+06</td>\n",
       "    </tr>\n",
       "    <tr>\n",
       "      <th>75%</th>\n",
       "      <td>0.000000</td>\n",
       "      <td>61.000000</td>\n",
       "      <td>4.858040e+05</td>\n",
       "      <td>1385.000000</td>\n",
       "      <td>4.872315e+05</td>\n",
       "      <td>29.468185</td>\n",
       "      <td>42.590233</td>\n",
       "      <td>1.816857e+06</td>\n",
       "    </tr>\n",
       "    <tr>\n",
       "      <th>max</th>\n",
       "      <td>1.000000</td>\n",
       "      <td>86.000000</td>\n",
       "      <td>1.066824e+06</td>\n",
       "      <td>19367.000000</td>\n",
       "      <td>1.068569e+06</td>\n",
       "      <td>51.951012</td>\n",
       "      <td>74.411856</td>\n",
       "      <td>3.150313e+06</td>\n",
       "    </tr>\n",
       "  </tbody>\n",
       "</table>\n",
       "</div>"
      ],
      "text/plain": [
       "            WINNER          AGE  GENERAL\\nVOTES  POSTAL\\nVOTES  TOTAL\\nVOTES  \\\n",
       "count  2263.000000  2018.000000    2.263000e+03    2263.000000  2.263000e+03   \n",
       "mean      0.238179    52.273538    2.615991e+05     990.710561  2.625898e+05   \n",
       "std       0.426064    11.869373    2.549906e+05    1602.839174  2.559822e+05   \n",
       "min       0.000000    25.000000    1.339000e+03       0.000000  1.342000e+03   \n",
       "25%       0.000000    43.250000    2.103450e+04      57.000000  2.116250e+04   \n",
       "50%       0.000000    52.000000    1.539340e+05     316.000000  1.544890e+05   \n",
       "75%       0.000000    61.000000    4.858040e+05    1385.000000  4.872315e+05   \n",
       "max       1.000000    86.000000    1.066824e+06   19367.000000  1.068569e+06   \n",
       "\n",
       "       OVER TOTAL ELECTORS \\nIN CONSTITUENCY  \\\n",
       "count                            2263.000000   \n",
       "mean                               15.811412   \n",
       "std                                14.962861   \n",
       "min                                 0.097941   \n",
       "25%                                 1.296518   \n",
       "50%                                10.510553   \n",
       "75%                                29.468185   \n",
       "max                                51.951012   \n",
       "\n",
       "       OVER TOTAL VOTES POLLED \\nIN CONSTITUENCY  TOTAL ELECTORS  \n",
       "count                                2263.000000    2.263000e+03  \n",
       "mean                                   23.190525    1.658016e+06  \n",
       "std                                    21.564758    3.145187e+05  \n",
       "min                                     1.000039    5.518900e+04  \n",
       "25%                                     1.899502    1.530014e+06  \n",
       "50%                                    16.221721    1.679030e+06  \n",
       "75%                                    42.590233    1.816857e+06  \n",
       "max                                    74.411856    3.150313e+06  "
      ]
     },
     "execution_count": 5,
     "metadata": {},
     "output_type": "execute_result"
    }
   ],
   "source": [
    "data.describe() #Statistics for each column"
   ]
  },
  {
   "cell_type": "code",
   "execution_count": 6,
   "metadata": {},
   "outputs": [
    {
     "name": "stdout",
     "output_type": "stream",
     "text": [
      "19\n"
     ]
    },
    {
     "data": {
      "text/plain": [
       "Index(['STATE', 'CONSTITUENCY', 'NAME', 'WINNER', 'PARTY', 'SYMBOL', 'GENDER',\n",
       "       'CRIMINAL\\nCASES', 'AGE', 'CATEGORY', 'EDUCATION', 'ASSETS',\n",
       "       'LIABILITIES', 'GENERAL\\nVOTES', 'POSTAL\\nVOTES', 'TOTAL\\nVOTES',\n",
       "       'OVER TOTAL ELECTORS \\nIN CONSTITUENCY',\n",
       "       'OVER TOTAL VOTES POLLED \\nIN CONSTITUENCY', 'TOTAL ELECTORS'],\n",
       "      dtype='object')"
      ]
     },
     "execution_count": 6,
     "metadata": {},
     "output_type": "execute_result"
    }
   ],
   "source": [
    "c=data.columns \n",
    "print(c.size)\n",
    "c"
   ]
  },
  {
   "cell_type": "code",
   "execution_count": 7,
   "metadata": {},
   "outputs": [
    {
     "data": {
      "text/plain": [
       "STATE                                         object\n",
       "CONSTITUENCY                                  object\n",
       "NAME                                          object\n",
       "WINNER                                         int64\n",
       "PARTY                                         object\n",
       "SYMBOL                                        object\n",
       "GENDER                                        object\n",
       "CRIMINAL\\nCASES                               object\n",
       "AGE                                          float64\n",
       "CATEGORY                                      object\n",
       "EDUCATION                                     object\n",
       "ASSETS                                        object\n",
       "LIABILITIES                                   object\n",
       "GENERAL\\nVOTES                                 int64\n",
       "POSTAL\\nVOTES                                  int64\n",
       "TOTAL\\nVOTES                                   int64\n",
       "OVER TOTAL ELECTORS \\nIN CONSTITUENCY        float64\n",
       "OVER TOTAL VOTES POLLED \\nIN CONSTITUENCY    float64\n",
       "TOTAL ELECTORS                                 int64\n",
       "dtype: object"
      ]
     },
     "execution_count": 7,
     "metadata": {},
     "output_type": "execute_result"
    }
   ],
   "source": [
    "data.dtypes # To check data type of each column"
   ]
  },
  {
   "cell_type": "code",
   "execution_count": 8,
   "metadata": {},
   "outputs": [
    {
     "data": {
      "text/plain": [
       "STATE                                        False\n",
       "CONSTITUENCY                                 False\n",
       "NAME                                         False\n",
       "WINNER                                       False\n",
       "PARTY                                        False\n",
       "SYMBOL                                        True\n",
       "GENDER                                        True\n",
       "CRIMINAL\\nCASES                               True\n",
       "AGE                                           True\n",
       "CATEGORY                                      True\n",
       "EDUCATION                                     True\n",
       "ASSETS                                        True\n",
       "LIABILITIES                                   True\n",
       "GENERAL\\nVOTES                               False\n",
       "POSTAL\\nVOTES                                False\n",
       "TOTAL\\nVOTES                                 False\n",
       "OVER TOTAL ELECTORS \\nIN CONSTITUENCY        False\n",
       "OVER TOTAL VOTES POLLED \\nIN CONSTITUENCY    False\n",
       "TOTAL ELECTORS                               False\n",
       "dtype: bool"
      ]
     },
     "execution_count": 8,
     "metadata": {},
     "output_type": "execute_result"
    }
   ],
   "source": [
    "data.isnull().any() # To check weather there are missing values or not"
   ]
  },
  {
   "cell_type": "markdown",
   "metadata": {},
   "source": [
    "# Exploratory Data Analysis"
   ]
  },
  {
   "cell_type": "code",
   "execution_count": 9,
   "metadata": {},
   "outputs": [
    {
     "name": "stdout",
     "output_type": "stream",
     "text": [
      "36\n"
     ]
    },
    {
     "data": {
      "text/plain": [
       "array(['Telangana', 'Uttar Pradesh', 'Maharashtra', 'Gujarat',\n",
       "       'Rajasthan', 'Kerala', 'West Bengal', 'Uttarakhand',\n",
       "       'Andhra Pradesh', 'Haryana', 'Punjab', 'Jammu & Kashmir',\n",
       "       'Andaman & Nicobar Islands', 'Tamil Nadu', 'Bihar',\n",
       "       'Arunachal Pradesh', 'Odisha', 'Assam', 'Karnataka',\n",
       "       'Madhya Pradesh', 'Chhattisgarh', 'Chandigarh', 'NCT OF Delhi',\n",
       "       'Jharkhand', 'Dadra & Nagar Haveli', 'Daman & Diu',\n",
       "       'Himachal Pradesh', 'Manipur', 'Lakshadweep', 'Mizoram',\n",
       "       'Nagaland', 'Goa', 'Puducherry', 'Meghalaya', 'Sikkim', 'Tripura'],\n",
       "      dtype=object)"
      ]
     },
     "execution_count": 9,
     "metadata": {},
     "output_type": "execute_result"
    }
   ],
   "source": [
    "y=data['STATE'].unique() # To calculate and see total number of states in election.\n",
    "print(y.size)\n",
    "y"
   ]
  },
  {
   "cell_type": "code",
   "execution_count": 10,
   "metadata": {},
   "outputs": [
    {
     "data": {
      "text/plain": [
       "STATE                                          0\n",
       "CONSTITUENCY                                   0\n",
       "NAME                                           0\n",
       "WINNER                                         0\n",
       "PARTY                                          0\n",
       "SYMBOL                                       245\n",
       "GENDER                                       245\n",
       "CRIMINAL\\nCASES                              245\n",
       "AGE                                          245\n",
       "CATEGORY                                     245\n",
       "EDUCATION                                    245\n",
       "ASSETS                                       245\n",
       "LIABILITIES                                  245\n",
       "GENERAL\\nVOTES                                 0\n",
       "POSTAL\\nVOTES                                  0\n",
       "TOTAL\\nVOTES                                   0\n",
       "OVER TOTAL ELECTORS \\nIN CONSTITUENCY          0\n",
       "OVER TOTAL VOTES POLLED \\nIN CONSTITUENCY      0\n",
       "TOTAL ELECTORS                                 0\n",
       "dtype: int64"
      ]
     },
     "execution_count": 10,
     "metadata": {},
     "output_type": "execute_result"
    }
   ],
   "source": [
    "data.isnull().sum() # To calculate missing values by column"
   ]
  },
  {
   "cell_type": "code",
   "execution_count": 11,
   "metadata": {},
   "outputs": [
    {
     "name": "stdout",
     "output_type": "stream",
     "text": [
      "133\n"
     ]
    },
    {
     "data": {
      "text/plain": [
       "array(['BJP', 'TRS', 'INC', 'NOTA', 'BSP', 'NCP', 'VBA', 'APoI', 'CPI(M)',\n",
       "       'BDJS', 'AITC', 'RSP', 'SP', 'YSRCP', 'TDP', 'JnP', 'INLD', 'SBSP',\n",
       "       'IND', 'SHS', 'AAP', 'SAD', 'JKN', 'JKPDP', 'JPC', 'DMK', 'PMK',\n",
       "       'NTK', 'MNM', 'AIADMK', 'RJD', 'CPI(ML)(L)', 'SSD', 'PPA', 'JD(S)',\n",
       "       'NPEP', 'BMUP', 'BJD', 'AIMIM', 'HAMS', 'AHFBK', 'PPID', 'SPL',\n",
       "       'ASDC', 'RLD', 'PSPL', 'JD(U)', 'BTP', 'AIFB', 'AGP', 'AIUDF',\n",
       "       'ABSKP', 'PUNEKP', 'RTORP', 'JNJP', 'LTSP', 'RVNP', 'JANADIP',\n",
       "       'SDPI', 'DMDK', 'ABGP', 'VCK', 'JMM', 'LIP', 'JDR', 'MOSP', 'MADP',\n",
       "       'AJPR', 'PMP', 'BBMP', 'AJSUP', 'JVM', 'RMPOI', 'LJP', 'BJKVP',\n",
       "       'SWP', 'NEINDP', 'RSPSR', 'ravp', 'RSOSP', 'BLSP', 'WPOI',\n",
       "       'SUCI(C)', 'SJDD', 'ANC', 'JDL', 'VSIP', 'AAM', 'JKP', 'BOPF',\n",
       "       'UPPL', 'CPIM', 'GGP', 'KEC(M)', 'KEC', 'JAPL', 'AKBMP', 'TJS',\n",
       "       'IUML', 'BSCP', 'ADAL', 'BRPI', 'MNF', 'PRISMP', 'VPI', 'YKP',\n",
       "       'NDPP', 'RLTP', 'RAHIS', 'NPF', 'BLSD', 'BVA', 'NAWPP', 'AINRC',\n",
       "       'BNDl', 'MSHP', 'BARESP', 'BLRP', 'AIPF', 'WAP', 'VCSMP', 'SAD(M)',\n",
       "       'UDP', 'SKM', 'SDF', 'PDP', 'JHP', 'TMC(M)', 'IPFT', 'JKNPP',\n",
       "       'DSSP', 'AHNP', 'PHJSP'], dtype=object)"
      ]
     },
     "execution_count": 11,
     "metadata": {},
     "output_type": "execute_result"
    }
   ],
   "source": [
    "x=data['PARTY'].unique() # To calculate and see total number of political parties in election.\n",
    "print(x.size)\n",
    "x"
   ]
  },
  {
   "cell_type": "code",
   "execution_count": 12,
   "metadata": {},
   "outputs": [
    {
     "data": {
      "text/plain": [
       "<matplotlib.axes._subplots.AxesSubplot at 0x1b1cc3ed400>"
      ]
     },
     "execution_count": 12,
     "metadata": {},
     "output_type": "execute_result"
    },
    {
     "data": {
      "image/png": "[encoded data removed]",
      "text/plain": [
       "<Figure size 432x288 with 1 Axes>"
      ]
     },
     "metadata": {
      "needs_background": "light"
     },
     "output_type": "display_data"
    }
   ],
   "source": [
    "#comparing the gender of candidates\n",
    "sns.countplot(data['GENDER'])"
   ]
  },
  {
   "cell_type": "code",
   "execution_count": 13,
   "metadata": {},
   "outputs": [
    {
     "data": {
      "text/plain": [
       "Text(0.5, 1.0, 'Partywise Contestants')"
      ]
     },
     "execution_count": 13,
     "metadata": {},
     "output_type": "execute_result"
    },
    {
     "data": {
      "image/png": "[encoded data removed]",
      "text/plain": [
       "<Figure size 1152x432 with 1 Axes>"
      ]
     },
     "metadata": {
      "needs_background": "light"
     },
     "output_type": "display_data"
    }
   ],
   "source": [
    "data.PARTY.value_counts().head(20).plot.bar(figsize=(16,6),color='g',fontsize=10)\n",
    "sns.despine(left=True,bottom=True)\n",
    "plt.xlabel('Parties')\n",
    "plt.ylabel('Count')\n",
    "plt.title('Partywise Contestants')"
   ]
  },
  {
   "cell_type": "code",
   "execution_count": 14,
   "metadata": {},
   "outputs": [
    {
     "data": {
      "text/plain": [
       "<matplotlib.axes._subplots.AxesSubplot at 0x1b1cd7b76a0>"
      ]
     },
     "execution_count": 14,
     "metadata": {},
     "output_type": "execute_result"
    },
    {
     "data": {
      "image/png": "[encoded data removed]",
      "text/plain": [
       "<Figure size 2160x864 with 1 Axes>"
      ]
     },
     "metadata": {
      "needs_background": "light"
     },
     "output_type": "display_data"
    }
   ],
   "source": [
    "mah=data[data['STATE']=='Maharashtra']\n",
    "plt.figure(figsize=(30,12))\n",
    "sns.countplot(mah['PARTY'])"
   ]
  },
  {
   "cell_type": "code",
   "execution_count": 15,
   "metadata": {},
   "outputs": [
    {
     "data": {
      "text/plain": [
       "<matplotlib.axes._subplots.AxesSubplot at 0x1b1cd84e4e0>"
      ]
     },
     "execution_count": 15,
     "metadata": {},
     "output_type": "execute_result"
    },
    {
     "data": {
      "image/png": "[encoded data removed]",
      "text/plain": [
       "<Figure size 2160x864 with 1 Axes>"
      ]
     },
     "metadata": {
      "needs_background": "light"
     },
     "output_type": "display_data"
    }
   ],
   "source": [
    "plt.figure(figsize=(30,12))\n",
    "sns.countplot(data['EDUCATION'])"
   ]
  },
  {
   "cell_type": "code",
   "execution_count": 16,
   "metadata": {},
   "outputs": [
    {
     "data": {
      "text/plain": [
       "<matplotlib.axes._subplots.AxesSubplot at 0x1b1cd8ec1d0>"
      ]
     },
     "execution_count": 16,
     "metadata": {},
     "output_type": "execute_result"
    },
    {
     "data": {
      "image/png": "[encoded data removed]",
      "text/plain": [
       "<Figure size 2160x864 with 1 Axes>"
      ]
     },
     "metadata": {
      "needs_background": "light"
     },
     "output_type": "display_data"
    }
   ],
   "source": [
    "plt.figure(figsize=(30,12))\n",
    "data['EDUCATION'].value_counts().plot.bar()"
   ]
  },
  {
   "cell_type": "code",
   "execution_count": 17,
   "metadata": {},
   "outputs": [
    {
     "data": {
      "text/plain": [
       "<matplotlib.axes._subplots.AxesSubplot at 0x1b1cd9652e8>"
      ]
     },
     "execution_count": 17,
     "metadata": {},
     "output_type": "execute_result"
    },
    {
     "data": {
      "image/png": "[encoded data removed]",
      "text/plain": [
       "<Figure size 2160x864 with 1 Axes>"
      ]
     },
     "metadata": {
      "needs_background": "light"
     },
     "output_type": "display_data"
    }
   ],
   "source": [
    "plt.figure(figsize=(30,12))\n",
    "data['AGE'].value_counts().plot.bar()"
   ]
  },
  {
   "cell_type": "code",
   "execution_count": 18,
   "metadata": {},
   "outputs": [
    {
     "data": {
      "text/plain": [
       "<matplotlib.axes._subplots.AxesSubplot at 0x1b1cdd16c50>"
      ]
     },
     "execution_count": 18,
     "metadata": {},
     "output_type": "execute_result"
    },
    {
     "data": {
      "image/png": "[encoded data removed]",
      "text/plain": [
       "<Figure size 864x576 with 1 Axes>"
      ]
     },
     "metadata": {
      "needs_background": "light"
     },
     "output_type": "display_data"
    }
   ],
   "source": [
    "plt.figure(figsize=(12,8))\n",
    "data['CATEGORY'].value_counts().plot.bar()"
   ]
  },
  {
   "cell_type": "code",
   "execution_count": 19,
   "metadata": {},
   "outputs": [
    {
     "data": {
      "text/plain": [
       "<matplotlib.axes._subplots.AxesSubplot at 0x1b1cdce58d0>"
      ]
     },
     "execution_count": 19,
     "metadata": {},
     "output_type": "execute_result"
    },
    {
     "data": {
      "image/png": "[encoded data removed]",
      "text/plain": [
       "<Figure size 576x288 with 1 Axes>"
      ]
     },
     "metadata": {
      "needs_background": "light"
     },
     "output_type": "display_data"
    }
   ],
   "source": [
    "plt.figure(figsize=(8,4))\n",
    "sns.countplot(data['CATEGORY'],hue=data['WINNER'])"
   ]
  },
  {
   "cell_type": "code",
   "execution_count": 20,
   "metadata": {},
   "outputs": [
    {
     "data": {
      "text/plain": [
       "<matplotlib.axes._subplots.AxesSubplot at 0x1b1ce2399b0>"
      ]
     },
     "execution_count": 20,
     "metadata": {},
     "output_type": "execute_result"
    },
    {
     "data": {
      "image/png": "[encoded data removed]",
      "text/plain": [
       "<Figure size 576x288 with 1 Axes>"
      ]
     },
     "metadata": {
      "needs_background": "light"
     },
     "output_type": "display_data"
    }
   ],
   "source": [
    "plt.figure(figsize=(8,4))\n",
    "sns.countplot(data['PARTY']=='INC',hue=data['WINNER'])  #SOMTHING IS WRONG HOW CAN BE 1400 CANDIDATES OF INC"
   ]
  },
  {
   "cell_type": "code",
   "execution_count": 21,
   "metadata": {},
   "outputs": [
    {
     "data": {
      "text/plain": [
       "<matplotlib.axes._subplots.AxesSubplot at 0x1b1ce239908>"
      ]
     },
     "execution_count": 21,
     "metadata": {},
     "output_type": "execute_result"
    },
    {
     "data": {
      "image/png": "[encoded data removed]",
      "text/plain": [
       "<Figure size 576x288 with 1 Axes>"
      ]
     },
     "metadata": {
      "needs_background": "light"
     },
     "output_type": "display_data"
    }
   ],
   "source": [
    "plt.figure(figsize=(8,4))\n",
    "sns.countplot(data['EDUCATION'],hue=data['WINNER'])"
   ]
  },
  {
   "cell_type": "code",
   "execution_count": 22,
   "metadata": {},
   "outputs": [
    {
     "data": {
      "text/plain": [
       "<matplotlib.axes._subplots.AxesSubplot at 0x1b1cf1ee7f0>"
      ]
     },
     "execution_count": 22,
     "metadata": {},
     "output_type": "execute_result"
    },
    {
     "data": {
      "image/png": "[encoded data removed]",
      "text/plain": [
       "<Figure size 864x576 with 1 Axes>"
      ]
     },
     "metadata": {
      "needs_background": "light"
     },
     "output_type": "display_data"
    }
   ],
   "source": [
    "plt.figure(figsize=(12,8))\n",
    "sns.countplot(data['CRIMINAL\\nCASES'],hue=data['WINNER'])"
   ]
  },
  {
   "cell_type": "code",
   "execution_count": 23,
   "metadata": {},
   "outputs": [],
   "source": [
    "data.dropna(inplace=True)"
   ]
  },
  {
   "cell_type": "code",
   "execution_count": 24,
   "metadata": {},
   "outputs": [
    {
     "data": {
      "text/html": [
       "<div>\n",
       "<style scoped>\n",
       "    .dataframe tbody tr th:only-of-type {\n",
       "        vertical-align: middle;\n",
       "    }\n",
       "\n",
       "    .dataframe tbody tr th {\n",
       "        vertical-align: top;\n",
       "    }\n",
       "\n",
       "    .dataframe thead th {\n",
       "        text-align: right;\n",
       "    }\n",
       "</style>\n",
       "<table border=\"1\" class=\"dataframe\">\n",
       "  <thead>\n",
       "    <tr style=\"text-align: right;\">\n",
       "      <th></th>\n",
       "      <th>STATE</th>\n",
       "      <th>CONSTITUENCY</th>\n",
       "      <th>NAME</th>\n",
       "      <th>WINNER</th>\n",
       "      <th>PARTY</th>\n",
       "      <th>SYMBOL</th>\n",
       "      <th>GENDER</th>\n",
       "      <th>CRIMINAL\n",
       "CASES</th>\n",
       "      <th>AGE</th>\n",
       "      <th>CATEGORY</th>\n",
       "      <th>EDUCATION</th>\n",
       "      <th>ASSETS</th>\n",
       "      <th>LIABILITIES</th>\n",
       "      <th>GENERAL\n",
       "VOTES</th>\n",
       "      <th>POSTAL\n",
       "VOTES</th>\n",
       "      <th>TOTAL\n",
       "VOTES</th>\n",
       "      <th>OVER TOTAL ELECTORS \n",
       "IN CONSTITUENCY</th>\n",
       "      <th>OVER TOTAL VOTES POLLED \n",
       "IN CONSTITUENCY</th>\n",
       "      <th>TOTAL ELECTORS</th>\n",
       "    </tr>\n",
       "  </thead>\n",
       "  <tbody>\n",
       "    <tr>\n",
       "      <th>0</th>\n",
       "      <td>Telangana</td>\n",
       "      <td>ADILABAD</td>\n",
       "      <td>SOYAM BAPU RAO</td>\n",
       "      <td>1</td>\n",
       "      <td>BJP</td>\n",
       "      <td>Lotus</td>\n",
       "      <td>MALE</td>\n",
       "      <td>52</td>\n",
       "      <td>52.0</td>\n",
       "      <td>ST</td>\n",
       "      <td>12th Pass</td>\n",
       "      <td>Rs 30,99,414\\n ~ 30 Lacs+</td>\n",
       "      <td>Rs 2,31,450\\n ~ 2 Lacs+</td>\n",
       "      <td>376892</td>\n",
       "      <td>482</td>\n",
       "      <td>377374</td>\n",
       "      <td>25.330684</td>\n",
       "      <td>35.468248</td>\n",
       "      <td>1489790</td>\n",
       "    </tr>\n",
       "    <tr>\n",
       "      <th>1</th>\n",
       "      <td>Telangana</td>\n",
       "      <td>ADILABAD</td>\n",
       "      <td>Godam Nagesh</td>\n",
       "      <td>0</td>\n",
       "      <td>TRS</td>\n",
       "      <td>Car</td>\n",
       "      <td>MALE</td>\n",
       "      <td>0</td>\n",
       "      <td>54.0</td>\n",
       "      <td>ST</td>\n",
       "      <td>Post Graduate</td>\n",
       "      <td>Rs 1,84,77,888\\n ~ 1 Crore+</td>\n",
       "      <td>Rs 8,47,000\\n ~ 8 Lacs+</td>\n",
       "      <td>318665</td>\n",
       "      <td>149</td>\n",
       "      <td>318814</td>\n",
       "      <td>21.399929</td>\n",
       "      <td>29.964370</td>\n",
       "      <td>1489790</td>\n",
       "    </tr>\n",
       "    <tr>\n",
       "      <th>2</th>\n",
       "      <td>Telangana</td>\n",
       "      <td>ADILABAD</td>\n",
       "      <td>RATHOD RAMESH</td>\n",
       "      <td>0</td>\n",
       "      <td>INC</td>\n",
       "      <td>Hand</td>\n",
       "      <td>MALE</td>\n",
       "      <td>3</td>\n",
       "      <td>52.0</td>\n",
       "      <td>ST</td>\n",
       "      <td>12th Pass</td>\n",
       "      <td>Rs 3,64,91,000\\n ~ 3 Crore+</td>\n",
       "      <td>Rs 1,53,00,000\\n ~ 1 Crore+</td>\n",
       "      <td>314057</td>\n",
       "      <td>181</td>\n",
       "      <td>314238</td>\n",
       "      <td>21.092771</td>\n",
       "      <td>29.534285</td>\n",
       "      <td>1489790</td>\n",
       "    </tr>\n",
       "    <tr>\n",
       "      <th>4</th>\n",
       "      <td>Uttar Pradesh</td>\n",
       "      <td>AGRA</td>\n",
       "      <td>Satyapal Singh Baghel</td>\n",
       "      <td>1</td>\n",
       "      <td>BJP</td>\n",
       "      <td>Lotus</td>\n",
       "      <td>MALE</td>\n",
       "      <td>5</td>\n",
       "      <td>58.0</td>\n",
       "      <td>SC</td>\n",
       "      <td>Doctorate</td>\n",
       "      <td>Rs 7,42,74,036\\n ~ 7 Crore+</td>\n",
       "      <td>Rs 86,06,522\\n ~ 86 Lacs+</td>\n",
       "      <td>644459</td>\n",
       "      <td>2416</td>\n",
       "      <td>646875</td>\n",
       "      <td>33.383823</td>\n",
       "      <td>56.464615</td>\n",
       "      <td>1937690</td>\n",
       "    </tr>\n",
       "    <tr>\n",
       "      <th>5</th>\n",
       "      <td>Uttar Pradesh</td>\n",
       "      <td>AGRA</td>\n",
       "      <td>Manoj Kumar Soni</td>\n",
       "      <td>0</td>\n",
       "      <td>BSP</td>\n",
       "      <td>Elephant</td>\n",
       "      <td>MALE</td>\n",
       "      <td>0</td>\n",
       "      <td>47.0</td>\n",
       "      <td>SC</td>\n",
       "      <td>Post Graduate</td>\n",
       "      <td>Rs 13,37,84,385\\n ~ 13 Crore+</td>\n",
       "      <td>Rs 2,22,51,891\\n ~ 2 Crore+</td>\n",
       "      <td>434199</td>\n",
       "      <td>1130</td>\n",
       "      <td>435329</td>\n",
       "      <td>22.466390</td>\n",
       "      <td>37.999125</td>\n",
       "      <td>1937690</td>\n",
       "    </tr>\n",
       "  </tbody>\n",
       "</table>\n",
       "</div>"
      ],
      "text/plain": [
       "           STATE CONSTITUENCY                   NAME  WINNER PARTY    SYMBOL  \\\n",
       "0      Telangana     ADILABAD         SOYAM BAPU RAO       1   BJP     Lotus   \n",
       "1      Telangana     ADILABAD           Godam Nagesh       0   TRS       Car   \n",
       "2      Telangana     ADILABAD          RATHOD RAMESH       0   INC      Hand   \n",
       "4  Uttar Pradesh         AGRA  Satyapal Singh Baghel       1   BJP     Lotus   \n",
       "5  Uttar Pradesh         AGRA       Manoj Kumar Soni       0   BSP  Elephant   \n",
       "\n",
       "  GENDER CRIMINAL\\nCASES   AGE CATEGORY      EDUCATION  \\\n",
       "0   MALE              52  52.0       ST      12th Pass   \n",
       "1   MALE               0  54.0       ST  Post Graduate   \n",
       "2   MALE               3  52.0       ST      12th Pass   \n",
       "4   MALE               5  58.0       SC      Doctorate   \n",
       "5   MALE               0  47.0       SC  Post Graduate   \n",
       "\n",
       "                          ASSETS                  LIABILITIES  GENERAL\\nVOTES  \\\n",
       "0      Rs 30,99,414\\n ~ 30 Lacs+      Rs 2,31,450\\n ~ 2 Lacs+          376892   \n",
       "1    Rs 1,84,77,888\\n ~ 1 Crore+      Rs 8,47,000\\n ~ 8 Lacs+          318665   \n",
       "2    Rs 3,64,91,000\\n ~ 3 Crore+  Rs 1,53,00,000\\n ~ 1 Crore+          314057   \n",
       "4    Rs 7,42,74,036\\n ~ 7 Crore+    Rs 86,06,522\\n ~ 86 Lacs+          644459   \n",
       "5  Rs 13,37,84,385\\n ~ 13 Crore+  Rs 2,22,51,891\\n ~ 2 Crore+          434199   \n",
       "\n",
       "   POSTAL\\nVOTES  TOTAL\\nVOTES  OVER TOTAL ELECTORS \\nIN CONSTITUENCY  \\\n",
       "0            482        377374                              25.330684   \n",
       "1            149        318814                              21.399929   \n",
       "2            181        314238                              21.092771   \n",
       "4           2416        646875                              33.383823   \n",
       "5           1130        435329                              22.466390   \n",
       "\n",
       "   OVER TOTAL VOTES POLLED \\nIN CONSTITUENCY  TOTAL ELECTORS  \n",
       "0                                  35.468248         1489790  \n",
       "1                                  29.964370         1489790  \n",
       "2                                  29.534285         1489790  \n",
       "4                                  56.464615         1937690  \n",
       "5                                  37.999125         1937690  "
      ]
     },
     "execution_count": 24,
     "metadata": {},
     "output_type": "execute_result"
    }
   ],
   "source": [
    "data.head()"
   ]
  },
  {
   "cell_type": "code",
   "execution_count": 25,
   "metadata": {},
   "outputs": [],
   "source": [
    "from sklearn.preprocessing import LabelEncoder\n",
    "l=data.select_dtypes('object').columns\n",
    "lb=LabelEncoder()\n",
    "for i in l:\n",
    "    data[i]=lb.fit_transform(data[i])"
   ]
  },
  {
   "cell_type": "code",
   "execution_count": 26,
   "metadata": {},
   "outputs": [
    {
     "data": {
      "text/html": [
       "<div>\n",
       "<style scoped>\n",
       "    .dataframe tbody tr th:only-of-type {\n",
       "        vertical-align: middle;\n",
       "    }\n",
       "\n",
       "    .dataframe tbody tr th {\n",
       "        vertical-align: top;\n",
       "    }\n",
       "\n",
       "    .dataframe thead th {\n",
       "        text-align: right;\n",
       "    }\n",
       "</style>\n",
       "<table border=\"1\" class=\"dataframe\">\n",
       "  <thead>\n",
       "    <tr style=\"text-align: right;\">\n",
       "      <th></th>\n",
       "      <th>STATE</th>\n",
       "      <th>CONSTITUENCY</th>\n",
       "      <th>NAME</th>\n",
       "      <th>WINNER</th>\n",
       "      <th>PARTY</th>\n",
       "      <th>SYMBOL</th>\n",
       "      <th>GENDER</th>\n",
       "      <th>CRIMINAL\n",
       "CASES</th>\n",
       "      <th>AGE</th>\n",
       "      <th>CATEGORY</th>\n",
       "      <th>EDUCATION</th>\n",
       "      <th>ASSETS</th>\n",
       "      <th>LIABILITIES</th>\n",
       "      <th>GENERAL\n",
       "VOTES</th>\n",
       "      <th>POSTAL\n",
       "VOTES</th>\n",
       "      <th>TOTAL\n",
       "VOTES</th>\n",
       "      <th>OVER TOTAL ELECTORS \n",
       "IN CONSTITUENCY</th>\n",
       "      <th>OVER TOTAL VOTES POLLED \n",
       "IN CONSTITUENCY</th>\n",
       "      <th>TOTAL ELECTORS</th>\n",
       "    </tr>\n",
       "  </thead>\n",
       "  <tbody>\n",
       "    <tr>\n",
       "      <th>0</th>\n",
       "      <td>31</td>\n",
       "      <td>0</td>\n",
       "      <td>1712</td>\n",
       "      <td>1</td>\n",
       "      <td>26</td>\n",
       "      <td>80</td>\n",
       "      <td>1</td>\n",
       "      <td>23</td>\n",
       "      <td>52.0</td>\n",
       "      <td>2</td>\n",
       "      <td>1</td>\n",
       "      <td>1085</td>\n",
       "      <td>404</td>\n",
       "      <td>376892</td>\n",
       "      <td>482</td>\n",
       "      <td>377374</td>\n",
       "      <td>25.330684</td>\n",
       "      <td>35.468248</td>\n",
       "      <td>1489790</td>\n",
       "    </tr>\n",
       "    <tr>\n",
       "      <th>1</th>\n",
       "      <td>31</td>\n",
       "      <td>0</td>\n",
       "      <td>700</td>\n",
       "      <td>0</td>\n",
       "      <td>119</td>\n",
       "      <td>32</td>\n",
       "      <td>1</td>\n",
       "      <td>0</td>\n",
       "      <td>54.0</td>\n",
       "      <td>2</td>\n",
       "      <td>11</td>\n",
       "      <td>305</td>\n",
       "      <td>1121</td>\n",
       "      <td>318665</td>\n",
       "      <td>149</td>\n",
       "      <td>318814</td>\n",
       "      <td>21.399929</td>\n",
       "      <td>29.964370</td>\n",
       "      <td>1489790</td>\n",
       "    </tr>\n",
       "    <tr>\n",
       "      <th>2</th>\n",
       "      <td>31</td>\n",
       "      <td>0</td>\n",
       "      <td>1497</td>\n",
       "      <td>0</td>\n",
       "      <td>46</td>\n",
       "      <td>66</td>\n",
       "      <td>1</td>\n",
       "      <td>16</td>\n",
       "      <td>52.0</td>\n",
       "      <td>2</td>\n",
       "      <td>1</td>\n",
       "      <td>1043</td>\n",
       "      <td>107</td>\n",
       "      <td>314057</td>\n",
       "      <td>181</td>\n",
       "      <td>314238</td>\n",
       "      <td>21.092771</td>\n",
       "      <td>29.534285</td>\n",
       "      <td>1489790</td>\n",
       "    </tr>\n",
       "    <tr>\n",
       "      <th>4</th>\n",
       "      <td>33</td>\n",
       "      <td>1</td>\n",
       "      <td>1788</td>\n",
       "      <td>1</td>\n",
       "      <td>26</td>\n",
       "      <td>80</td>\n",
       "      <td>1</td>\n",
       "      <td>22</td>\n",
       "      <td>58.0</td>\n",
       "      <td>1</td>\n",
       "      <td>4</td>\n",
       "      <td>1699</td>\n",
       "      <td>1155</td>\n",
       "      <td>644459</td>\n",
       "      <td>2416</td>\n",
       "      <td>646875</td>\n",
       "      <td>33.383823</td>\n",
       "      <td>56.464615</td>\n",
       "      <td>1937690</td>\n",
       "    </tr>\n",
       "    <tr>\n",
       "      <th>5</th>\n",
       "      <td>33</td>\n",
       "      <td>1</td>\n",
       "      <td>1118</td>\n",
       "      <td>0</td>\n",
       "      <td>35</td>\n",
       "      <td>49</td>\n",
       "      <td>1</td>\n",
       "      <td>0</td>\n",
       "      <td>47.0</td>\n",
       "      <td>1</td>\n",
       "      <td>11</td>\n",
       "      <td>481</td>\n",
       "      <td>397</td>\n",
       "      <td>434199</td>\n",
       "      <td>1130</td>\n",
       "      <td>435329</td>\n",
       "      <td>22.466390</td>\n",
       "      <td>37.999125</td>\n",
       "      <td>1937690</td>\n",
       "    </tr>\n",
       "  </tbody>\n",
       "</table>\n",
       "</div>"
      ],
      "text/plain": [
       "   STATE  CONSTITUENCY  NAME  WINNER  PARTY  SYMBOL  GENDER  CRIMINAL\\nCASES  \\\n",
       "0     31             0  1712       1     26      80       1               23   \n",
       "1     31             0   700       0    119      32       1                0   \n",
       "2     31             0  1497       0     46      66       1               16   \n",
       "4     33             1  1788       1     26      80       1               22   \n",
       "5     33             1  1118       0     35      49       1                0   \n",
       "\n",
       "    AGE  CATEGORY  EDUCATION  ASSETS  LIABILITIES  GENERAL\\nVOTES  \\\n",
       "0  52.0         2          1    1085          404          376892   \n",
       "1  54.0         2         11     305         1121          318665   \n",
       "2  52.0         2          1    1043          107          314057   \n",
       "4  58.0         1          4    1699         1155          644459   \n",
       "5  47.0         1         11     481          397          434199   \n",
       "\n",
       "   POSTAL\\nVOTES  TOTAL\\nVOTES  OVER TOTAL ELECTORS \\nIN CONSTITUENCY  \\\n",
       "0            482        377374                              25.330684   \n",
       "1            149        318814                              21.399929   \n",
       "2            181        314238                              21.092771   \n",
       "4           2416        646875                              33.383823   \n",
       "5           1130        435329                              22.466390   \n",
       "\n",
       "   OVER TOTAL VOTES POLLED \\nIN CONSTITUENCY  TOTAL ELECTORS  \n",
       "0                                  35.468248         1489790  \n",
       "1                                  29.964370         1489790  \n",
       "2                                  29.534285         1489790  \n",
       "4                                  56.464615         1937690  \n",
       "5                                  37.999125         1937690  "
      ]
     },
     "execution_count": 26,
     "metadata": {},
     "output_type": "execute_result"
    }
   ],
   "source": [
    "data.head()"
   ]
  },
  {
   "cell_type": "code",
   "execution_count": 27,
   "metadata": {},
   "outputs": [
    {
     "data": {
      "text/html": [
       "<div>\n",
       "<style scoped>\n",
       "    .dataframe tbody tr th:only-of-type {\n",
       "        vertical-align: middle;\n",
       "    }\n",
       "\n",
       "    .dataframe tbody tr th {\n",
       "        vertical-align: top;\n",
       "    }\n",
       "\n",
       "    .dataframe thead th {\n",
       "        text-align: right;\n",
       "    }\n",
       "</style>\n",
       "<table border=\"1\" class=\"dataframe\">\n",
       "  <thead>\n",
       "    <tr style=\"text-align: right;\">\n",
       "      <th></th>\n",
       "      <th>STATE</th>\n",
       "      <th>CONSTITUENCY</th>\n",
       "      <th>NAME</th>\n",
       "      <th>WINNER</th>\n",
       "      <th>PARTY</th>\n",
       "      <th>SYMBOL</th>\n",
       "      <th>GENDER</th>\n",
       "      <th>CRIMINAL\n",
       "CASES</th>\n",
       "      <th>AGE</th>\n",
       "      <th>CATEGORY</th>\n",
       "      <th>EDUCATION</th>\n",
       "      <th>ASSETS</th>\n",
       "      <th>LIABILITIES</th>\n",
       "      <th>GENERAL\n",
       "VOTES</th>\n",
       "      <th>POSTAL\n",
       "VOTES</th>\n",
       "      <th>TOTAL\n",
       "VOTES</th>\n",
       "      <th>OVER TOTAL ELECTORS \n",
       "IN CONSTITUENCY</th>\n",
       "      <th>OVER TOTAL VOTES POLLED \n",
       "IN CONSTITUENCY</th>\n",
       "      <th>TOTAL ELECTORS</th>\n",
       "    </tr>\n",
       "  </thead>\n",
       "  <tbody>\n",
       "    <tr>\n",
       "      <th>STATE</th>\n",
       "      <td>1.000000</td>\n",
       "      <td>-0.055245</td>\n",
       "      <td>0.000689</td>\n",
       "      <td>0.014417</td>\n",
       "      <td>-0.121924</td>\n",
       "      <td>0.132801</td>\n",
       "      <td>-0.064427</td>\n",
       "      <td>0.045862</td>\n",
       "      <td>0.067235</td>\n",
       "      <td>-0.049871</td>\n",
       "      <td>0.070356</td>\n",
       "      <td>-0.056402</td>\n",
       "      <td>0.010434</td>\n",
       "      <td>0.066228</td>\n",
       "      <td>-0.049990</td>\n",
       "      <td>0.065647</td>\n",
       "      <td>0.034793</td>\n",
       "      <td>0.043591</td>\n",
       "      <td>0.132664</td>\n",
       "    </tr>\n",
       "    <tr>\n",
       "      <th>CONSTITUENCY</th>\n",
       "      <td>-0.055245</td>\n",
       "      <td>1.000000</td>\n",
       "      <td>-0.005531</td>\n",
       "      <td>-0.020526</td>\n",
       "      <td>0.070165</td>\n",
       "      <td>-0.045849</td>\n",
       "      <td>-0.036071</td>\n",
       "      <td>-0.013843</td>\n",
       "      <td>-0.033784</td>\n",
       "      <td>-0.025665</td>\n",
       "      <td>-0.005741</td>\n",
       "      <td>0.020729</td>\n",
       "      <td>0.018033</td>\n",
       "      <td>-0.047832</td>\n",
       "      <td>-0.024139</td>\n",
       "      <td>-0.047803</td>\n",
       "      <td>-0.040821</td>\n",
       "      <td>-0.044584</td>\n",
       "      <td>0.009825</td>\n",
       "    </tr>\n",
       "    <tr>\n",
       "      <th>NAME</th>\n",
       "      <td>0.000689</td>\n",
       "      <td>-0.005531</td>\n",
       "      <td>1.000000</td>\n",
       "      <td>0.003003</td>\n",
       "      <td>0.063460</td>\n",
       "      <td>0.024383</td>\n",
       "      <td>-0.072180</td>\n",
       "      <td>-0.002596</td>\n",
       "      <td>-0.053412</td>\n",
       "      <td>-0.041960</td>\n",
       "      <td>-0.014218</td>\n",
       "      <td>0.031635</td>\n",
       "      <td>-0.018736</td>\n",
       "      <td>-0.040793</td>\n",
       "      <td>-0.010427</td>\n",
       "      <td>-0.040702</td>\n",
       "      <td>-0.043497</td>\n",
       "      <td>-0.038106</td>\n",
       "      <td>0.003196</td>\n",
       "    </tr>\n",
       "    <tr>\n",
       "      <th>WINNER</th>\n",
       "      <td>0.014417</td>\n",
       "      <td>-0.020526</td>\n",
       "      <td>0.003003</td>\n",
       "      <td>1.000000</td>\n",
       "      <td>-0.162373</td>\n",
       "      <td>0.152558</td>\n",
       "      <td>-0.023778</td>\n",
       "      <td>0.052911</td>\n",
       "      <td>0.110294</td>\n",
       "      <td>-0.059614</td>\n",
       "      <td>0.014432</td>\n",
       "      <td>-0.023408</td>\n",
       "      <td>0.058436</td>\n",
       "      <td>0.714533</td>\n",
       "      <td>0.500400</td>\n",
       "      <td>0.715015</td>\n",
       "      <td>0.729544</td>\n",
       "      <td>0.749932</td>\n",
       "      <td>0.036610</td>\n",
       "    </tr>\n",
       "    <tr>\n",
       "      <th>PARTY</th>\n",
       "      <td>-0.121924</td>\n",
       "      <td>0.070165</td>\n",
       "      <td>0.063460</td>\n",
       "      <td>-0.162373</td>\n",
       "      <td>1.000000</td>\n",
       "      <td>-0.279063</td>\n",
       "      <td>0.012972</td>\n",
       "      <td>0.031135</td>\n",
       "      <td>-0.034575</td>\n",
       "      <td>-0.071618</td>\n",
       "      <td>-0.006822</td>\n",
       "      <td>-0.006515</td>\n",
       "      <td>0.021599</td>\n",
       "      <td>-0.145866</td>\n",
       "      <td>-0.028187</td>\n",
       "      <td>-0.145483</td>\n",
       "      <td>-0.141921</td>\n",
       "      <td>-0.137629</td>\n",
       "      <td>0.016746</td>\n",
       "    </tr>\n",
       "    <tr>\n",
       "      <th>SYMBOL</th>\n",
       "      <td>0.132801</td>\n",
       "      <td>-0.045849</td>\n",
       "      <td>0.024383</td>\n",
       "      <td>0.152558</td>\n",
       "      <td>-0.279063</td>\n",
       "      <td>1.000000</td>\n",
       "      <td>0.007697</td>\n",
       "      <td>-0.005738</td>\n",
       "      <td>0.099741</td>\n",
       "      <td>-0.027577</td>\n",
       "      <td>0.034880</td>\n",
       "      <td>-0.004930</td>\n",
       "      <td>0.036070</td>\n",
       "      <td>0.157467</td>\n",
       "      <td>0.141480</td>\n",
       "      <td>0.157777</td>\n",
       "      <td>0.171969</td>\n",
       "      <td>0.169278</td>\n",
       "      <td>-0.027525</td>\n",
       "    </tr>\n",
       "    <tr>\n",
       "      <th>GENDER</th>\n",
       "      <td>-0.064427</td>\n",
       "      <td>-0.036071</td>\n",
       "      <td>-0.072180</td>\n",
       "      <td>-0.023778</td>\n",
       "      <td>0.012972</td>\n",
       "      <td>0.007697</td>\n",
       "      <td>1.000000</td>\n",
       "      <td>0.057399</td>\n",
       "      <td>0.168025</td>\n",
       "      <td>-0.016814</td>\n",
       "      <td>-0.075404</td>\n",
       "      <td>-0.005209</td>\n",
       "      <td>0.009954</td>\n",
       "      <td>-0.030183</td>\n",
       "      <td>0.021513</td>\n",
       "      <td>-0.029926</td>\n",
       "      <td>-0.027268</td>\n",
       "      <td>-0.023494</td>\n",
       "      <td>-0.006099</td>\n",
       "    </tr>\n",
       "    <tr>\n",
       "      <th>CRIMINAL\\nCASES</th>\n",
       "      <td>0.045862</td>\n",
       "      <td>-0.013843</td>\n",
       "      <td>-0.002596</td>\n",
       "      <td>0.052911</td>\n",
       "      <td>0.031135</td>\n",
       "      <td>-0.005738</td>\n",
       "      <td>0.057399</td>\n",
       "      <td>1.000000</td>\n",
       "      <td>-0.007280</td>\n",
       "      <td>-0.147448</td>\n",
       "      <td>-0.036001</td>\n",
       "      <td>-0.064360</td>\n",
       "      <td>-0.001677</td>\n",
       "      <td>0.065773</td>\n",
       "      <td>0.006057</td>\n",
       "      <td>0.065557</td>\n",
       "      <td>0.063916</td>\n",
       "      <td>0.077848</td>\n",
       "      <td>0.036574</td>\n",
       "    </tr>\n",
       "    <tr>\n",
       "      <th>AGE</th>\n",
       "      <td>0.067235</td>\n",
       "      <td>-0.033784</td>\n",
       "      <td>-0.053412</td>\n",
       "      <td>0.110294</td>\n",
       "      <td>-0.034575</td>\n",
       "      <td>0.099741</td>\n",
       "      <td>0.168025</td>\n",
       "      <td>-0.007280</td>\n",
       "      <td>1.000000</td>\n",
       "      <td>-0.085940</td>\n",
       "      <td>0.023495</td>\n",
       "      <td>0.003172</td>\n",
       "      <td>0.013337</td>\n",
       "      <td>0.208567</td>\n",
       "      <td>0.129360</td>\n",
       "      <td>0.208600</td>\n",
       "      <td>0.207304</td>\n",
       "      <td>0.223700</td>\n",
       "      <td>0.021083</td>\n",
       "    </tr>\n",
       "    <tr>\n",
       "      <th>CATEGORY</th>\n",
       "      <td>-0.049871</td>\n",
       "      <td>-0.025665</td>\n",
       "      <td>-0.041960</td>\n",
       "      <td>-0.059614</td>\n",
       "      <td>-0.071618</td>\n",
       "      <td>-0.027577</td>\n",
       "      <td>-0.016814</td>\n",
       "      <td>-0.147448</td>\n",
       "      <td>-0.085940</td>\n",
       "      <td>1.000000</td>\n",
       "      <td>-0.018520</td>\n",
       "      <td>-0.010148</td>\n",
       "      <td>-0.072513</td>\n",
       "      <td>-0.118014</td>\n",
       "      <td>-0.076335</td>\n",
       "      <td>-0.118053</td>\n",
       "      <td>-0.071849</td>\n",
       "      <td>-0.103173</td>\n",
       "      <td>-0.232268</td>\n",
       "    </tr>\n",
       "    <tr>\n",
       "      <th>EDUCATION</th>\n",
       "      <td>0.070356</td>\n",
       "      <td>-0.005741</td>\n",
       "      <td>-0.014218</td>\n",
       "      <td>0.014432</td>\n",
       "      <td>-0.006822</td>\n",
       "      <td>0.034880</td>\n",
       "      <td>-0.075404</td>\n",
       "      <td>-0.036001</td>\n",
       "      <td>0.023495</td>\n",
       "      <td>-0.018520</td>\n",
       "      <td>1.000000</td>\n",
       "      <td>-0.033514</td>\n",
       "      <td>0.014521</td>\n",
       "      <td>0.052647</td>\n",
       "      <td>0.029975</td>\n",
       "      <td>0.052637</td>\n",
       "      <td>0.063702</td>\n",
       "      <td>0.057035</td>\n",
       "      <td>-0.026805</td>\n",
       "    </tr>\n",
       "    <tr>\n",
       "      <th>ASSETS</th>\n",
       "      <td>-0.056402</td>\n",
       "      <td>0.020729</td>\n",
       "      <td>0.031635</td>\n",
       "      <td>-0.023408</td>\n",
       "      <td>-0.006515</td>\n",
       "      <td>-0.004930</td>\n",
       "      <td>-0.005209</td>\n",
       "      <td>-0.064360</td>\n",
       "      <td>0.003172</td>\n",
       "      <td>-0.010148</td>\n",
       "      <td>-0.033514</td>\n",
       "      <td>1.000000</td>\n",
       "      <td>0.036656</td>\n",
       "      <td>-0.000237</td>\n",
       "      <td>0.013776</td>\n",
       "      <td>-0.000146</td>\n",
       "      <td>-0.001563</td>\n",
       "      <td>-0.005208</td>\n",
       "      <td>0.019311</td>\n",
       "    </tr>\n",
       "    <tr>\n",
       "      <th>LIABILITIES</th>\n",
       "      <td>0.010434</td>\n",
       "      <td>0.018033</td>\n",
       "      <td>-0.018736</td>\n",
       "      <td>0.058436</td>\n",
       "      <td>0.021599</td>\n",
       "      <td>0.036070</td>\n",
       "      <td>0.009954</td>\n",
       "      <td>-0.001677</td>\n",
       "      <td>0.013337</td>\n",
       "      <td>-0.072513</td>\n",
       "      <td>0.014521</td>\n",
       "      <td>0.036656</td>\n",
       "      <td>1.000000</td>\n",
       "      <td>0.105967</td>\n",
       "      <td>0.070570</td>\n",
       "      <td>0.106015</td>\n",
       "      <td>0.102639</td>\n",
       "      <td>0.113161</td>\n",
       "      <td>0.040264</td>\n",
       "    </tr>\n",
       "    <tr>\n",
       "      <th>GENERAL\\nVOTES</th>\n",
       "      <td>0.066228</td>\n",
       "      <td>-0.047832</td>\n",
       "      <td>-0.040793</td>\n",
       "      <td>0.714533</td>\n",
       "      <td>-0.145866</td>\n",
       "      <td>0.157467</td>\n",
       "      <td>-0.030183</td>\n",
       "      <td>0.065773</td>\n",
       "      <td>0.208567</td>\n",
       "      <td>-0.118014</td>\n",
       "      <td>0.052647</td>\n",
       "      <td>-0.000237</td>\n",
       "      <td>0.105967</td>\n",
       "      <td>1.000000</td>\n",
       "      <td>0.594395</td>\n",
       "      <td>0.999986</td>\n",
       "      <td>0.957413</td>\n",
       "      <td>0.958186</td>\n",
       "      <td>0.227139</td>\n",
       "    </tr>\n",
       "    <tr>\n",
       "      <th>POSTAL\\nVOTES</th>\n",
       "      <td>-0.049990</td>\n",
       "      <td>-0.024139</td>\n",
       "      <td>-0.010427</td>\n",
       "      <td>0.500400</td>\n",
       "      <td>-0.028187</td>\n",
       "      <td>0.141480</td>\n",
       "      <td>0.021513</td>\n",
       "      <td>0.006057</td>\n",
       "      <td>0.129360</td>\n",
       "      <td>-0.076335</td>\n",
       "      <td>0.029975</td>\n",
       "      <td>0.013776</td>\n",
       "      <td>0.070570</td>\n",
       "      <td>0.594395</td>\n",
       "      <td>1.000000</td>\n",
       "      <td>0.598591</td>\n",
       "      <td>0.609817</td>\n",
       "      <td>0.614288</td>\n",
       "      <td>0.036731</td>\n",
       "    </tr>\n",
       "    <tr>\n",
       "      <th>TOTAL\\nVOTES</th>\n",
       "      <td>0.065647</td>\n",
       "      <td>-0.047803</td>\n",
       "      <td>-0.040702</td>\n",
       "      <td>0.715015</td>\n",
       "      <td>-0.145483</td>\n",
       "      <td>0.157777</td>\n",
       "      <td>-0.029926</td>\n",
       "      <td>0.065557</td>\n",
       "      <td>0.208600</td>\n",
       "      <td>-0.118053</td>\n",
       "      <td>0.052637</td>\n",
       "      <td>-0.000146</td>\n",
       "      <td>0.106015</td>\n",
       "      <td>0.999986</td>\n",
       "      <td>0.598591</td>\n",
       "      <td>1.000000</td>\n",
       "      <td>0.957664</td>\n",
       "      <td>0.958464</td>\n",
       "      <td>0.226497</td>\n",
       "    </tr>\n",
       "    <tr>\n",
       "      <th>OVER TOTAL ELECTORS \\nIN CONSTITUENCY</th>\n",
       "      <td>0.034793</td>\n",
       "      <td>-0.040821</td>\n",
       "      <td>-0.043497</td>\n",
       "      <td>0.729544</td>\n",
       "      <td>-0.141921</td>\n",
       "      <td>0.171969</td>\n",
       "      <td>-0.027268</td>\n",
       "      <td>0.063916</td>\n",
       "      <td>0.207304</td>\n",
       "      <td>-0.071849</td>\n",
       "      <td>0.063702</td>\n",
       "      <td>-0.001563</td>\n",
       "      <td>0.102639</td>\n",
       "      <td>0.957413</td>\n",
       "      <td>0.609817</td>\n",
       "      <td>0.957664</td>\n",
       "      <td>1.000000</td>\n",
       "      <td>0.974384</td>\n",
       "      <td>0.003023</td>\n",
       "    </tr>\n",
       "    <tr>\n",
       "      <th>OVER TOTAL VOTES POLLED \\nIN CONSTITUENCY</th>\n",
       "      <td>0.043591</td>\n",
       "      <td>-0.044584</td>\n",
       "      <td>-0.038106</td>\n",
       "      <td>0.749932</td>\n",
       "      <td>-0.137629</td>\n",
       "      <td>0.169278</td>\n",
       "      <td>-0.023494</td>\n",
       "      <td>0.077848</td>\n",
       "      <td>0.223700</td>\n",
       "      <td>-0.103173</td>\n",
       "      <td>0.057035</td>\n",
       "      <td>-0.005208</td>\n",
       "      <td>0.113161</td>\n",
       "      <td>0.958186</td>\n",
       "      <td>0.614288</td>\n",
       "      <td>0.958464</td>\n",
       "      <td>0.974384</td>\n",
       "      <td>1.000000</td>\n",
       "      <td>0.073187</td>\n",
       "    </tr>\n",
       "    <tr>\n",
       "      <th>TOTAL ELECTORS</th>\n",
       "      <td>0.132664</td>\n",
       "      <td>0.009825</td>\n",
       "      <td>0.003196</td>\n",
       "      <td>0.036610</td>\n",
       "      <td>0.016746</td>\n",
       "      <td>-0.027525</td>\n",
       "      <td>-0.006099</td>\n",
       "      <td>0.036574</td>\n",
       "      <td>0.021083</td>\n",
       "      <td>-0.232268</td>\n",
       "      <td>-0.026805</td>\n",
       "      <td>0.019311</td>\n",
       "      <td>0.040264</td>\n",
       "      <td>0.227139</td>\n",
       "      <td>0.036731</td>\n",
       "      <td>0.226497</td>\n",
       "      <td>0.003023</td>\n",
       "      <td>0.073187</td>\n",
       "      <td>1.000000</td>\n",
       "    </tr>\n",
       "  </tbody>\n",
       "</table>\n",
       "</div>"
      ],
      "text/plain": [
       "                                              STATE  CONSTITUENCY      NAME  \\\n",
       "STATE                                      1.000000     -0.055245  0.000689   \n",
       "CONSTITUENCY                              -0.055245      1.000000 -0.005531   \n",
       "NAME                                       0.000689     -0.005531  1.000000   \n",
       "WINNER                                     0.014417     -0.020526  0.003003   \n",
       "PARTY                                     -0.121924      0.070165  0.063460   \n",
       "SYMBOL                                     0.132801     -0.045849  0.024383   \n",
       "GENDER                                    -0.064427     -0.036071 -0.072180   \n",
       "CRIMINAL\\nCASES                            0.045862     -0.013843 -0.002596   \n",
       "AGE                                        0.067235     -0.033784 -0.053412   \n",
       "CATEGORY                                  -0.049871     -0.025665 -0.041960   \n",
       "EDUCATION                                  0.070356     -0.005741 -0.014218   \n",
       "ASSETS                                    -0.056402      0.020729  0.031635   \n",
       "LIABILITIES                                0.010434      0.018033 -0.018736   \n",
       "GENERAL\\nVOTES                             0.066228     -0.047832 -0.040793   \n",
       "POSTAL\\nVOTES                             -0.049990     -0.024139 -0.010427   \n",
       "TOTAL\\nVOTES                               0.065647     -0.047803 -0.040702   \n",
       "OVER TOTAL ELECTORS \\nIN CONSTITUENCY      0.034793     -0.040821 -0.043497   \n",
       "OVER TOTAL VOTES POLLED \\nIN CONSTITUENCY  0.043591     -0.044584 -0.038106   \n",
       "TOTAL ELECTORS                             0.132664      0.009825  0.003196   \n",
       "\n",
       "                                             WINNER     PARTY    SYMBOL  \\\n",
       "STATE                                      0.014417 -0.121924  0.132801   \n",
       "CONSTITUENCY                              -0.020526  0.070165 -0.045849   \n",
       "NAME                                       0.003003  0.063460  0.024383   \n",
       "WINNER                                     1.000000 -0.162373  0.152558   \n",
       "PARTY                                     -0.162373  1.000000 -0.279063   \n",
       "SYMBOL                                     0.152558 -0.279063  1.000000   \n",
       "GENDER                                    -0.023778  0.012972  0.007697   \n",
       "CRIMINAL\\nCASES                            0.052911  0.031135 -0.005738   \n",
       "AGE                                        0.110294 -0.034575  0.099741   \n",
       "CATEGORY                                  -0.059614 -0.071618 -0.027577   \n",
       "EDUCATION                                  0.014432 -0.006822  0.034880   \n",
       "ASSETS                                    -0.023408 -0.006515 -0.004930   \n",
       "LIABILITIES                                0.058436  0.021599  0.036070   \n",
       "GENERAL\\nVOTES                             0.714533 -0.145866  0.157467   \n",
       "POSTAL\\nVOTES                              0.500400 -0.028187  0.141480   \n",
       "TOTAL\\nVOTES                               0.715015 -0.145483  0.157777   \n",
       "OVER TOTAL ELECTORS \\nIN CONSTITUENCY      0.729544 -0.141921  0.171969   \n",
       "OVER TOTAL VOTES POLLED \\nIN CONSTITUENCY  0.749932 -0.137629  0.169278   \n",
       "TOTAL ELECTORS                             0.036610  0.016746 -0.027525   \n",
       "\n",
       "                                             GENDER  CRIMINAL\\nCASES  \\\n",
       "STATE                                     -0.064427         0.045862   \n",
       "CONSTITUENCY                              -0.036071        -0.013843   \n",
       "NAME                                      -0.072180        -0.002596   \n",
       "WINNER                                    -0.023778         0.052911   \n",
       "PARTY                                      0.012972         0.031135   \n",
       "SYMBOL                                     0.007697        -0.005738   \n",
       "GENDER                                     1.000000         0.057399   \n",
       "CRIMINAL\\nCASES                            0.057399         1.000000   \n",
       "AGE                                        0.168025        -0.007280   \n",
       "CATEGORY                                  -0.016814        -0.147448   \n",
       "EDUCATION                                 -0.075404        -0.036001   \n",
       "ASSETS                                    -0.005209        -0.064360   \n",
       "LIABILITIES                                0.009954        -0.001677   \n",
       "GENERAL\\nVOTES                            -0.030183         0.065773   \n",
       "POSTAL\\nVOTES                              0.021513         0.006057   \n",
       "TOTAL\\nVOTES                              -0.029926         0.065557   \n",
       "OVER TOTAL ELECTORS \\nIN CONSTITUENCY     -0.027268         0.063916   \n",
       "OVER TOTAL VOTES POLLED \\nIN CONSTITUENCY -0.023494         0.077848   \n",
       "TOTAL ELECTORS                            -0.006099         0.036574   \n",
       "\n",
       "                                                AGE  CATEGORY  EDUCATION  \\\n",
       "STATE                                      0.067235 -0.049871   0.070356   \n",
       "CONSTITUENCY                              -0.033784 -0.025665  -0.005741   \n",
       "NAME                                      -0.053412 -0.041960  -0.014218   \n",
       "WINNER                                     0.110294 -0.059614   0.014432   \n",
       "PARTY                                     -0.034575 -0.071618  -0.006822   \n",
       "SYMBOL                                     0.099741 -0.027577   0.034880   \n",
       "GENDER                                     0.168025 -0.016814  -0.075404   \n",
       "CRIMINAL\\nCASES                           -0.007280 -0.147448  -0.036001   \n",
       "AGE                                        1.000000 -0.085940   0.023495   \n",
       "CATEGORY                                  -0.085940  1.000000  -0.018520   \n",
       "EDUCATION                                  0.023495 -0.018520   1.000000   \n",
       "ASSETS                                     0.003172 -0.010148  -0.033514   \n",
       "LIABILITIES                                0.013337 -0.072513   0.014521   \n",
       "GENERAL\\nVOTES                             0.208567 -0.118014   0.052647   \n",
       "POSTAL\\nVOTES                              0.129360 -0.076335   0.029975   \n",
       "TOTAL\\nVOTES                               0.208600 -0.118053   0.052637   \n",
       "OVER TOTAL ELECTORS \\nIN CONSTITUENCY      0.207304 -0.071849   0.063702   \n",
       "OVER TOTAL VOTES POLLED \\nIN CONSTITUENCY  0.223700 -0.103173   0.057035   \n",
       "TOTAL ELECTORS                             0.021083 -0.232268  -0.026805   \n",
       "\n",
       "                                             ASSETS  LIABILITIES  \\\n",
       "STATE                                     -0.056402     0.010434   \n",
       "CONSTITUENCY                               0.020729     0.018033   \n",
       "NAME                                       0.031635    -0.018736   \n",
       "WINNER                                    -0.023408     0.058436   \n",
       "PARTY                                     -0.006515     0.021599   \n",
       "SYMBOL                                    -0.004930     0.036070   \n",
       "GENDER                                    -0.005209     0.009954   \n",
       "CRIMINAL\\nCASES                           -0.064360    -0.001677   \n",
       "AGE                                        0.003172     0.013337   \n",
       "CATEGORY                                  -0.010148    -0.072513   \n",
       "EDUCATION                                 -0.033514     0.014521   \n",
       "ASSETS                                     1.000000     0.036656   \n",
       "LIABILITIES                                0.036656     1.000000   \n",
       "GENERAL\\nVOTES                            -0.000237     0.105967   \n",
       "POSTAL\\nVOTES                              0.013776     0.070570   \n",
       "TOTAL\\nVOTES                              -0.000146     0.106015   \n",
       "OVER TOTAL ELECTORS \\nIN CONSTITUENCY     -0.001563     0.102639   \n",
       "OVER TOTAL VOTES POLLED \\nIN CONSTITUENCY -0.005208     0.113161   \n",
       "TOTAL ELECTORS                             0.019311     0.040264   \n",
       "\n",
       "                                           GENERAL\\nVOTES  POSTAL\\nVOTES  \\\n",
       "STATE                                            0.066228      -0.049990   \n",
       "CONSTITUENCY                                    -0.047832      -0.024139   \n",
       "NAME                                            -0.040793      -0.010427   \n",
       "WINNER                                           0.714533       0.500400   \n",
       "PARTY                                           -0.145866      -0.028187   \n",
       "SYMBOL                                           0.157467       0.141480   \n",
       "GENDER                                          -0.030183       0.021513   \n",
       "CRIMINAL\\nCASES                                  0.065773       0.006057   \n",
       "AGE                                              0.208567       0.129360   \n",
       "CATEGORY                                        -0.118014      -0.076335   \n",
       "EDUCATION                                        0.052647       0.029975   \n",
       "ASSETS                                          -0.000237       0.013776   \n",
       "LIABILITIES                                      0.105967       0.070570   \n",
       "GENERAL\\nVOTES                                   1.000000       0.594395   \n",
       "POSTAL\\nVOTES                                    0.594395       1.000000   \n",
       "TOTAL\\nVOTES                                     0.999986       0.598591   \n",
       "OVER TOTAL ELECTORS \\nIN CONSTITUENCY            0.957413       0.609817   \n",
       "OVER TOTAL VOTES POLLED \\nIN CONSTITUENCY        0.958186       0.614288   \n",
       "TOTAL ELECTORS                                   0.227139       0.036731   \n",
       "\n",
       "                                           TOTAL\\nVOTES  \\\n",
       "STATE                                          0.065647   \n",
       "CONSTITUENCY                                  -0.047803   \n",
       "NAME                                          -0.040702   \n",
       "WINNER                                         0.715015   \n",
       "PARTY                                         -0.145483   \n",
       "SYMBOL                                         0.157777   \n",
       "GENDER                                        -0.029926   \n",
       "CRIMINAL\\nCASES                                0.065557   \n",
       "AGE                                            0.208600   \n",
       "CATEGORY                                      -0.118053   \n",
       "EDUCATION                                      0.052637   \n",
       "ASSETS                                        -0.000146   \n",
       "LIABILITIES                                    0.106015   \n",
       "GENERAL\\nVOTES                                 0.999986   \n",
       "POSTAL\\nVOTES                                  0.598591   \n",
       "TOTAL\\nVOTES                                   1.000000   \n",
       "OVER TOTAL ELECTORS \\nIN CONSTITUENCY          0.957664   \n",
       "OVER TOTAL VOTES POLLED \\nIN CONSTITUENCY      0.958464   \n",
       "TOTAL ELECTORS                                 0.226497   \n",
       "\n",
       "                                           OVER TOTAL ELECTORS \\nIN CONSTITUENCY  \\\n",
       "STATE                                                                   0.034793   \n",
       "CONSTITUENCY                                                           -0.040821   \n",
       "NAME                                                                   -0.043497   \n",
       "WINNER                                                                  0.729544   \n",
       "PARTY                                                                  -0.141921   \n",
       "SYMBOL                                                                  0.171969   \n",
       "GENDER                                                                 -0.027268   \n",
       "CRIMINAL\\nCASES                                                         0.063916   \n",
       "AGE                                                                     0.207304   \n",
       "CATEGORY                                                               -0.071849   \n",
       "EDUCATION                                                               0.063702   \n",
       "ASSETS                                                                 -0.001563   \n",
       "LIABILITIES                                                             0.102639   \n",
       "GENERAL\\nVOTES                                                          0.957413   \n",
       "POSTAL\\nVOTES                                                           0.609817   \n",
       "TOTAL\\nVOTES                                                            0.957664   \n",
       "OVER TOTAL ELECTORS \\nIN CONSTITUENCY                                   1.000000   \n",
       "OVER TOTAL VOTES POLLED \\nIN CONSTITUENCY                               0.974384   \n",
       "TOTAL ELECTORS                                                          0.003023   \n",
       "\n",
       "                                           OVER TOTAL VOTES POLLED \\nIN CONSTITUENCY  \\\n",
       "STATE                                                                       0.043591   \n",
       "CONSTITUENCY                                                               -0.044584   \n",
       "NAME                                                                       -0.038106   \n",
       "WINNER                                                                      0.749932   \n",
       "PARTY                                                                      -0.137629   \n",
       "SYMBOL                                                                      0.169278   \n",
       "GENDER                                                                     -0.023494   \n",
       "CRIMINAL\\nCASES                                                             0.077848   \n",
       "AGE                                                                         0.223700   \n",
       "CATEGORY                                                                   -0.103173   \n",
       "EDUCATION                                                                   0.057035   \n",
       "ASSETS                                                                     -0.005208   \n",
       "LIABILITIES                                                                 0.113161   \n",
       "GENERAL\\nVOTES                                                              0.958186   \n",
       "POSTAL\\nVOTES                                                               0.614288   \n",
       "TOTAL\\nVOTES                                                                0.958464   \n",
       "OVER TOTAL ELECTORS \\nIN CONSTITUENCY                                       0.974384   \n",
       "OVER TOTAL VOTES POLLED \\nIN CONSTITUENCY                                   1.000000   \n",
       "TOTAL ELECTORS                                                              0.073187   \n",
       "\n",
       "                                           TOTAL ELECTORS  \n",
       "STATE                                            0.132664  \n",
       "CONSTITUENCY                                     0.009825  \n",
       "NAME                                             0.003196  \n",
       "WINNER                                           0.036610  \n",
       "PARTY                                            0.016746  \n",
       "SYMBOL                                          -0.027525  \n",
       "GENDER                                          -0.006099  \n",
       "CRIMINAL\\nCASES                                  0.036574  \n",
       "AGE                                              0.021083  \n",
       "CATEGORY                                        -0.232268  \n",
       "EDUCATION                                       -0.026805  \n",
       "ASSETS                                           0.019311  \n",
       "LIABILITIES                                      0.040264  \n",
       "GENERAL\\nVOTES                                   0.227139  \n",
       "POSTAL\\nVOTES                                    0.036731  \n",
       "TOTAL\\nVOTES                                     0.226497  \n",
       "OVER TOTAL ELECTORS \\nIN CONSTITUENCY            0.003023  \n",
       "OVER TOTAL VOTES POLLED \\nIN CONSTITUENCY        0.073187  \n",
       "TOTAL ELECTORS                                   1.000000  "
      ]
     },
     "execution_count": 27,
     "metadata": {},
     "output_type": "execute_result"
    }
   ],
   "source": [
    "data.corr()"
   ]
  },
  {
   "cell_type": "code",
   "execution_count": 28,
   "metadata": {},
   "outputs": [
    {
     "data": {
      "text/plain": [
       "<matplotlib.axes._subplots.AxesSubplot at 0x1b1cfe225f8>"
      ]
     },
     "execution_count": 28,
     "metadata": {},
     "output_type": "execute_result"
    },
    {
     "data": {
      "image/png": "[encoded data removed]",
      "text/plain": [
       "<Figure size 1152x864 with 2 Axes>"
      ]
     },
     "metadata": {
      "needs_background": "light"
     },
     "output_type": "display_data"
    }
   ],
   "source": [
    "plt.figure(figsize=(16,12))\n",
    "matrix = data.corr()\n",
    "sns.heatmap(matrix)"
   ]
  },
  {
   "cell_type": "code",
   "execution_count": 29,
   "metadata": {},
   "outputs": [
    {
     "data": {
      "text/plain": [
       "Index(['STATE', 'CONSTITUENCY', 'NAME', 'WINNER', 'PARTY', 'SYMBOL', 'GENDER',\n",
       "       'CRIMINAL\\nCASES', 'AGE', 'CATEGORY', 'EDUCATION', 'ASSETS',\n",
       "       'LIABILITIES', 'GENERAL\\nVOTES', 'POSTAL\\nVOTES', 'TOTAL\\nVOTES',\n",
       "       'OVER TOTAL ELECTORS \\nIN CONSTITUENCY',\n",
       "       'OVER TOTAL VOTES POLLED \\nIN CONSTITUENCY', 'TOTAL ELECTORS'],\n",
       "      dtype='object')"
      ]
     },
     "execution_count": 29,
     "metadata": {},
     "output_type": "execute_result"
    }
   ],
   "source": [
    "data.columns"
   ]
  },
  {
   "cell_type": "code",
   "execution_count": 30,
   "metadata": {},
   "outputs": [],
   "source": [
    "data.drop(['NAME'],axis=1,inplace=True)\n",
    "X=data.drop('WINNER',axis=1)\n",
    "y=data['WINNER']"
   ]
  },
  {
   "cell_type": "code",
   "execution_count": 31,
   "metadata": {},
   "outputs": [],
   "source": [
    "from sklearn.model_selection import train_test_split\n",
    "from sklearn.linear_model import LogisticRegression\n",
    "from sklearn.tree import DecisionTreeClassifier,ExtraTreeClassifier\n",
    "from sklearn.naive_bayes import GaussianNB\n",
    "from sklearn.neighbors import NearestNeighbors,KNeighborsClassifier\n",
    "from sklearn.metrics import accuracy_score"
   ]
  },
  {
   "cell_type": "code",
   "execution_count": 32,
   "metadata": {},
   "outputs": [],
   "source": [
    "X_train,X_test,y_train,y_test=train_test_split(X,y,test_size=0.30,random_state=20)"
   ]
  },
  {
   "cell_type": "code",
   "execution_count": 33,
   "metadata": {},
   "outputs": [],
   "source": [
    "models=[['LogisticRegression',LogisticRegression()],['DecisionTreeClassifier',DecisionTreeClassifier()],['ExtraTreeClassifier',ExtraTreeClassifier()],['GaussianNB',GaussianNB()],['KNeighborsClassifier',KNeighborsClassifier()]]\n",
    "model_prediction=[]"
   ]
  },
  {
   "cell_type": "code",
   "execution_count": 34,
   "metadata": {},
   "outputs": [
    {
     "name": "stderr",
     "output_type": "stream",
     "text": [
      "E:\\PYTHON STUDY MATERIAL - Copy\\New folder\\lib\\site-packages\\sklearn\\linear_model\\logistic.py:433: FutureWarning: Default solver will be changed to 'lbfgs' in 0.22. Specify a solver to silence this warning.\n",
      "  FutureWarning)\n"
     ]
    }
   ],
   "source": [
    "for i in models:\n",
    "    model=i[1]\n",
    "    model.fit(X_train,y_train)\n",
    "    predict=model.predict(X_test)\n",
    "    score=(accuracy_score(predict,y_test))\n",
    "    model_prediction.append([i[0],score*100])"
   ]
  },
  {
   "cell_type": "code",
   "execution_count": 35,
   "metadata": {},
   "outputs": [
    {
     "data": {
      "text/html": [
       "<div>\n",
       "<style scoped>\n",
       "    .dataframe tbody tr th:only-of-type {\n",
       "        vertical-align: middle;\n",
       "    }\n",
       "\n",
       "    .dataframe tbody tr th {\n",
       "        vertical-align: top;\n",
       "    }\n",
       "\n",
       "    .dataframe thead th {\n",
       "        text-align: right;\n",
       "    }\n",
       "</style>\n",
       "<table border=\"1\" class=\"dataframe\">\n",
       "  <thead>\n",
       "    <tr style=\"text-align: right;\">\n",
       "      <th></th>\n",
       "      <th>modelname</th>\n",
       "      <th>score</th>\n",
       "    </tr>\n",
       "  </thead>\n",
       "  <tbody>\n",
       "    <tr>\n",
       "      <th>1</th>\n",
       "      <td>DecisionTreeClassifier</td>\n",
       "      <td>93.399340</td>\n",
       "    </tr>\n",
       "    <tr>\n",
       "      <th>2</th>\n",
       "      <td>ExtraTreeClassifier</td>\n",
       "      <td>92.244224</td>\n",
       "    </tr>\n",
       "    <tr>\n",
       "      <th>0</th>\n",
       "      <td>LogisticRegression</td>\n",
       "      <td>89.438944</td>\n",
       "    </tr>\n",
       "    <tr>\n",
       "      <th>4</th>\n",
       "      <td>KNeighborsClassifier</td>\n",
       "      <td>88.943894</td>\n",
       "    </tr>\n",
       "    <tr>\n",
       "      <th>3</th>\n",
       "      <td>GaussianNB</td>\n",
       "      <td>88.448845</td>\n",
       "    </tr>\n",
       "  </tbody>\n",
       "</table>\n",
       "</div>"
      ],
      "text/plain": [
       "                modelname      score\n",
       "1  DecisionTreeClassifier  93.399340\n",
       "2     ExtraTreeClassifier  92.244224\n",
       "0      LogisticRegression  89.438944\n",
       "4    KNeighborsClassifier  88.943894\n",
       "3              GaussianNB  88.448845"
      ]
     },
     "execution_count": 35,
     "metadata": {},
     "output_type": "execute_result"
    }
   ],
   "source": [
    "model_prediction=pd.DataFrame(model_prediction)\n",
    "model_prediction.columns=['modelname','score']\n",
    "model_prediction.sort_values(by='score',ascending=False)"
   ]
  },
  {
   "cell_type": "code",
   "execution_count": null,
   "metadata": {},
   "outputs": [],
   "source": []
  }
 ],
 "metadata": {
  "kernelspec": {
   "display_name": "Python 3",
   "language": "python",
   "name": "python3"
  },
  "language_info": {
   "codemirror_mode": {
    "name": "ipython",
    "version": 3
   },
   "file_extension": ".py",
   "mimetype": "text/x-python",
   "name": "python",
   "nbconvert_exporter": "python",
   "pygments_lexer": "ipython3",
   "version": "3.7.3"
  }
 },
 "nbformat": 4,
 "nbformat_minor": 2
}
